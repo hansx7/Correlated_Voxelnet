{
 "cells": [
  {
   "cell_type": "code",
   "execution_count": 24,
   "metadata": {
    "ExecuteTime": {
     "end_time": "2019-01-23T07:01:41.836761Z",
     "start_time": "2019-01-23T07:01:41.833898Z"
    }
   },
   "outputs": [],
   "source": [
    "import numpy as np\n",
    "from pyntcloud import PyntCloud"
   ]
  },
  {
   "cell_type": "code",
   "execution_count": 25,
   "metadata": {
    "ExecuteTime": {
     "end_time": "2019-01-23T07:01:42.361629Z",
     "start_time": "2019-01-23T07:01:42.301316Z"
    }
   },
   "outputs": [],
   "source": [
    "cloud = PyntCloud.from_file('../visualization/test_pc.txt',\n",
    "                            sep = ' ',\n",
    "                            header=0,\n",
    "                            names=['x', 'y', 'z'])"
   ]
  },
  {
   "cell_type": "code",
   "execution_count": 26,
   "metadata": {
    "ExecuteTime": {
     "end_time": "2019-01-23T07:01:43.341659Z",
     "start_time": "2019-01-23T07:01:42.956321Z"
    }
   },
   "outputs": [
    {
     "data": {
      "application/vnd.jupyter.widget-view+json": {
       "model_id": "90e38875ec58427988a856d474cc5c2f",
       "version_major": 2,
       "version_minor": 0
      },
      "text/plain": [
       "Renderer(camera=PerspectiveCamera(aspect=1.6, fov=90.0, position=(0.507843667188019, 78.40236094070357, 3.1171…"
      ]
     },
     "metadata": {},
     "output_type": "display_data"
    },
    {
     "data": {
      "application/vnd.jupyter.widget-view+json": {
       "model_id": "30dbc36c348d4a43bf91dd5a7e154b48",
       "version_major": 2,
       "version_minor": 0
      },
      "text/plain": [
       "HBox(children=(Label(value='Point size:'), FloatSlider(value=15.757200000000001, max=157.572, step=0.157572000…"
      ]
     },
     "metadata": {},
     "output_type": "display_data"
    }
   ],
   "source": [
    "cloud.plot()"
   ]
  },
  {
   "cell_type": "code",
   "execution_count": 43,
   "metadata": {
    "ExecuteTime": {
     "end_time": "2019-01-23T07:42:54.684226Z",
     "start_time": "2019-01-23T07:42:53.338633Z"
    }
   },
   "outputs": [],
   "source": [
    "cloud = PyntCloud.from_file('../visualization/test_pc.txt',\n",
    "                            sep = ' ',\n",
    "                            header=0,\n",
    "                            names=['x', 'y', 'z'])\n",
    "\n",
    "is_floor = cloud.add_scalar_field(\"plane_fit\", n_inliers_to_stop=len(cloud.points) / 10, max_dist=0.001)\n",
    "cloud.points = cloud.points[cloud.points[\"is_plane\"] > 0]"
   ]
  },
  {
   "cell_type": "code",
   "execution_count": 44,
   "metadata": {
    "ExecuteTime": {
     "end_time": "2019-01-23T07:42:54.809812Z",
     "start_time": "2019-01-23T07:42:54.686936Z"
    }
   },
   "outputs": [
    {
     "name": "stderr",
     "output_type": "stream",
     "text": [
      "/home/hk1/anaconda3/envs/pytorch04/lib/python3.5/site-packages/pythreejs/traits.py:177: UserWarning: 64-bit data types not supported for WebGL data, casting to 32-bit.\n",
      "  warnings.warn('64-bit data types not supported for WebGL '\n"
     ]
    },
    {
     "data": {
      "application/vnd.jupyter.widget-view+json": {
       "model_id": "6f5d0352b8f24f979c24021bf83389bf",
       "version_major": 2,
       "version_minor": 0
      },
      "text/plain": [
       "Renderer(camera=PerspectiveCamera(aspect=1.6, fov=90.0, position=(1.4870845986984815, 29.551294287780188, 0.48…"
      ]
     },
     "metadata": {},
     "output_type": "display_data"
    },
    {
     "data": {
      "application/vnd.jupyter.widget-view+json": {
       "model_id": "b67abf6b9e854f55aa3c53c407abea9a",
       "version_major": 2,
       "version_minor": 0
      },
      "text/plain": [
       "HBox(children=(Label(value='Point size:'), FloatSlider(value=6.9402, max=69.402, step=0.069402), Label(value='…"
      ]
     },
     "metadata": {},
     "output_type": "display_data"
    }
   ],
   "source": [
    "cloud.plot(use_as_color=is_floor, cmap='cool')"
   ]
  },
  {
   "cell_type": "code",
   "execution_count": 45,
   "metadata": {
    "ExecuteTime": {
     "end_time": "2019-01-23T07:43:03.700126Z",
     "start_time": "2019-01-23T07:43:03.695575Z"
    }
   },
   "outputs": [],
   "source": [
    "three_points = cloud.get_sample(\"points_random\", n=3, as_PyntCloud=False)"
   ]
  },
  {
   "cell_type": "code",
   "execution_count": 46,
   "metadata": {
    "ExecuteTime": {
     "end_time": "2019-01-23T07:43:04.270115Z",
     "start_time": "2019-01-23T07:43:04.254520Z"
    }
   },
   "outputs": [
    {
     "data": {
      "text/html": [
       "<div>\n",
       "<style>\n",
       "    .dataframe thead tr:only-child th {\n",
       "        text-align: right;\n",
       "    }\n",
       "\n",
       "    .dataframe thead th {\n",
       "        text-align: left;\n",
       "    }\n",
       "\n",
       "    .dataframe tbody tr th {\n",
       "        vertical-align: top;\n",
       "    }\n",
       "</style>\n",
       "<table border=\"1\" class=\"dataframe\">\n",
       "  <thead>\n",
       "    <tr style=\"text-align: right;\">\n",
       "      <th></th>\n",
       "      <th>x</th>\n",
       "      <th>y</th>\n",
       "      <th>z</th>\n",
       "      <th>is_plane</th>\n",
       "    </tr>\n",
       "  </thead>\n",
       "  <tbody>\n",
       "    <tr>\n",
       "      <th>0</th>\n",
       "      <td>4.567</td>\n",
       "      <td>4.556</td>\n",
       "      <td>-1.750</td>\n",
       "      <td>1</td>\n",
       "    </tr>\n",
       "    <tr>\n",
       "      <th>1</th>\n",
       "      <td>4.938</td>\n",
       "      <td>2.329</td>\n",
       "      <td>-1.739</td>\n",
       "      <td>1</td>\n",
       "    </tr>\n",
       "    <tr>\n",
       "      <th>2</th>\n",
       "      <td>3.967</td>\n",
       "      <td>1.369</td>\n",
       "      <td>-1.749</td>\n",
       "      <td>1</td>\n",
       "    </tr>\n",
       "  </tbody>\n",
       "</table>\n",
       "</div>"
      ],
      "text/plain": [
       "       x      y      z  is_plane\n",
       "0  4.567  4.556 -1.750         1\n",
       "1  4.938  2.329 -1.739         1\n",
       "2  3.967  1.369 -1.749         1"
      ]
     },
     "execution_count": 46,
     "metadata": {},
     "output_type": "execute_result"
    }
   ],
   "source": [
    "three_points"
   ]
  },
  {
   "cell_type": "code",
   "execution_count": 47,
   "metadata": {
    "ExecuteTime": {
     "end_time": "2019-01-23T07:43:05.727724Z",
     "start_time": "2019-01-23T07:43:05.724071Z"
    }
   },
   "outputs": [],
   "source": [
    "three_points_np = []\n",
    "for i in range(len(three_points)):\n",
    "    three_points_np.append(np.array([three_points[\"x\"][i], three_points[\"y\"][i], three_points[\"z\"][i] + 1.65]))"
   ]
  },
  {
   "cell_type": "code",
   "execution_count": 48,
   "metadata": {
    "ExecuteTime": {
     "end_time": "2019-01-23T07:43:06.208177Z",
     "start_time": "2019-01-23T07:43:06.199642Z"
    }
   },
   "outputs": [
    {
     "data": {
      "text/plain": [
       "[array([ 4.567,  4.556, -0.1  ]),\n",
       " array([ 4.938,  2.329, -0.089]),\n",
       " array([ 3.967,  1.369, -0.099])]"
      ]
     },
     "execution_count": 48,
     "metadata": {},
     "output_type": "execute_result"
    }
   ],
   "source": [
    "three_points_np"
   ]
  },
  {
   "cell_type": "code",
   "execution_count": 49,
   "metadata": {
    "ExecuteTime": {
     "end_time": "2019-01-23T07:43:07.273262Z",
     "start_time": "2019-01-23T07:43:07.269809Z"
    }
   },
   "outputs": [],
   "source": [
    "vector_one = three_points_np[1] - three_points_np[0]\n",
    "vector_two = three_points_np[2] - three_points_np[0]\n",
    "normal = np.cross(vector_one, vector_two)"
   ]
  },
  {
   "cell_type": "code",
   "execution_count": 50,
   "metadata": {
    "ExecuteTime": {
     "end_time": "2019-01-23T07:43:07.720204Z",
     "start_time": "2019-01-23T07:43:07.715185Z"
    }
   },
   "outputs": [
    {
     "data": {
      "text/plain": [
       "array([ 0.01303398, -0.00276759, -0.99991122])"
      ]
     },
     "execution_count": 50,
     "metadata": {},
     "output_type": "execute_result"
    }
   ],
   "source": [
    "normal_normalized = normal / np.linalg.norm(normal)\n",
    "normal_normalized"
   ]
  },
  {
   "cell_type": "code",
   "execution_count": 106,
   "metadata": {
    "ExecuteTime": {
     "end_time": "2019-02-15T09:38:15.965236Z",
     "start_time": "2019-02-15T09:38:15.720134Z"
    }
   },
   "outputs": [
    {
     "name": "stdout",
     "output_type": "stream",
     "text": [
      "[-1, -0.0, 0.25, 0.20833333333333334, 0.2225877192982456, 0.21813448024150647, 0.21957107695136005, 0.21911220457767724, 0.21925924667005145, 0.2192121763560601, 0.21922724919140496, 0.21922242308132733, 0.2192239683859067, 0.21922347358978692, 0.2192236320207184, 0.21922358129208222, 0.21922359753509368, 0.21922359233417735, 0.2192235939994801, 0.21922359346626, 0.21922359363699392]\n"
     ]
    },
    {
     "data": {
      "image/png": "[encoded data removed]",
      "text/plain": [
       "<Figure size 1000x500 with 1 Axes>"
      ]
     },
     "metadata": {
      "needs_background": "light"
     },
     "output_type": "display_data"
    }
   ],
   "source": [
    "import numpy as np\n",
    "from matplotlib import pyplot as plt\n",
    "\n",
    "a_pre = -1\n",
    "\n",
    "y = [a_pre]\n",
    "for i in range(20):\n",
    "    a_next = (a_pre**2 + 1/2*(a_pre - 1))/(2*a_pre-2)\n",
    "    y.append(a_next)\n",
    "    a_pre = a_next\n",
    "\n",
    "x = range(20+1)\n",
    "plt.figure(figsize=(10,5),dpi=100)\n",
    "plt.plot(x,y)\n",
    "print(y)"
   ]
  },
  {
   "cell_type": "code",
   "execution_count": 89,
   "metadata": {
    "ExecuteTime": {
     "end_time": "2019-01-23T11:01:25.506151Z",
     "start_time": "2019-01-23T11:01:25.501400Z"
    }
   },
   "outputs": [
    {
     "data": {
      "text/plain": [
       "2.2807764064044154"
      ]
     },
     "execution_count": 89,
     "metadata": {},
     "output_type": "execute_result"
    }
   ],
   "source": [
    "(5+np.sqrt(17))/4"
   ]
  },
  {
   "cell_type": "code",
   "execution_count": 90,
   "metadata": {
    "ExecuteTime": {
     "end_time": "2019-01-23T11:01:33.882990Z",
     "start_time": "2019-01-23T11:01:33.877514Z"
    }
   },
   "outputs": [
    {
     "data": {
      "text/plain": [
       "0.21922359359558485"
      ]
     },
     "execution_count": 90,
     "metadata": {},
     "output_type": "execute_result"
    }
   ],
   "source": [
    "(5-np.sqrt(17))/4"
   ]
  },
  {
   "cell_type": "code",
   "execution_count": null,
   "metadata": {},
   "outputs": [],
   "source": []
  }
 ],
 "metadata": {
  "kernelspec": {
   "display_name": "Python 3",
   "language": "python",
   "name": "python3"
  },
  "language_info": {
   "codemirror_mode": {
    "name": "ipython",
    "version": 3
   },
   "file_extension": ".py",
   "mimetype": "text/x-python",
   "name": "python",
   "nbconvert_exporter": "python",
   "pygments_lexer": "ipython3",
   "version": "3.5.4"
  }
 },
 "nbformat": 4,
 "nbformat_minor": 2
}
